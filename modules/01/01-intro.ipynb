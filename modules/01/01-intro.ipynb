{
  "cells": [
    {
      "cell_type": "markdown",
      "metadata": {},
      "source": [
        "[![Open In Colab](https://colab.research.google.com/assets/colab-badge.svg)](https://colab.research.google.com/github/aurelio-labs/langchain-course/blob/main/chapters/01-intro.ipynb)"
      ]
    },
    {
      "cell_type": "markdown",
      "metadata": {
        "id": "mptJD94oH6ak"
      },
      "source": [
        "#### LangChain Essentials Course"
      ]
    },
    {
      "cell_type": "markdown",
      "metadata": {
        "id": "jwjxctC0H6am"
      },
      "source": [
        "# Getting Started with LangChain"
      ]
    },
    {
      "cell_type": "markdown",
      "metadata": {
        "id": "adOQXfBHH6am"
      },
      "source": [
        "LangChain is one of the most popular open source libraries for AI Engineers. It's goal is to abstract away the complexity in building AI software, provide easy-to-use building blocks, and make it easier when switching between AI service providers."
      ]
    },
    {
      "cell_type": "markdown",
      "metadata": {
        "id": "JFy86kIBH6am"
      },
      "source": [
        "## Initializing Gemini"
      ]
    },
    {
      "cell_type": "code",
      "execution_count": null,
      "metadata": {
        "colab": {
          "base_uri": "https://localhost:8080/"
        },
        "id": "dL1OqS7RH6an",
        "outputId": "ef506821-32b0-4de4-b910-ad45f616bd9d"
      },
      "outputs": [],
      "source": [
        "import os\n",
        "from getpass import getpass\n",
        "\n",
        "\n",
        "os.environ[\"GOOGLE_API_KEY\"] = os.getenv(\"GOOGLE_API_KEY\") or getpass(\n",
        "    \"Enter Google API Key: \"\n",
        ")\n",
        "\n",
        "google_model = \"gemini-2.5-flash\"  # or any other Gemini model"
      ]
    },
    {
      "cell_type": "code",
      "execution_count": 5,
      "metadata": {
        "id": "Y_tz8kTVH6an"
      },
      "outputs": [
        {
          "name": "stderr",
          "output_type": "stream",
          "text": [
            "/home/anushkaarora/Desktop/LangchainLearning/.venv/lib/python3.12/site-packages/tqdm/auto.py:21: TqdmWarning: IProgress not found. Please update jupyter and ipywidgets. See https://ipywidgets.readthedocs.io/en/stable/user_install.html\n",
            "  from .autonotebook import tqdm as notebook_tqdm\n"
          ]
        }
      ],
      "source": [
        "from langchain_google_genai import ChatGoogleGenerativeAI\n",
        "\n",
        "# For normal accurate responses\n",
        "llm = ChatGoogleGenerativeAI(temperature=0.0, model=google_model)\n",
        "\n",
        "# For unique creative responses\n",
        "creative_llm = ChatGoogleGenerativeAI(temperature=0.9, model=google_model)"
      ]
    },
    {
      "cell_type": "markdown",
      "metadata": {
        "id": "jymjwQiMH6an"
      },
      "source": [
        "We will be taking an `article` _draft_ and using LangChain to generate various useful items around this article. We'll be creating:\n",
        "\n",
        "1. An article title\n",
        "2. An article description\n",
        "3. Editor advice where we will insert an additional paragraph in the article\n",
        "4. A thumbnail / hero image for our article."
      ]
    },
    {
      "cell_type": "markdown",
      "metadata": {
        "id": "jSsQ8xKuH6an"
      },
      "source": [
        "Here we input our article to start with. Currently this is using an article from the Aurelio AI learning page."
      ]
    },
    {
      "cell_type": "code",
      "execution_count": 34,
      "metadata": {
        "id": "sfwEVT97H6ao"
      },
      "outputs": [],
      "source": [
        "article = \"\"\"\n",
        "\\\n",
        "We believe AI's short—to mid-term future belongs to agents and that the long-term future of *AGI* may evolve from agentic systems. Our definition of agents covers any neuro-symbolic system in which we merge neural AI (such as an LLM) with semi-traditional software.\n",
        "\n",
        "With agents, we allow LLMs to integrate with code — allowing AI to search the web, perform math, and essentially integrate into anything we can build with code. It should be clear the scope of use cases is phenomenal where AI can integrate with the broader world of software.\n",
        "\n",
        "In this introduction to AI agents, we will cover the essential concepts that make them what they are and why that will make them the core of real-world AI in the years to come.\n",
        "\n",
        "---\n",
        "\n",
        "## Neuro-Symbolic Systems\n",
        "\n",
        "Neuro-symbolic systems consist of both neural and symbolic computation, where:\n",
        "\n",
        "- Neural refers to LLMs, embedding models, or other neural network-based models.\n",
        "- Symbolic refers to logic containing symbolic logic, such as code.\n",
        "\n",
        "Both neural and symbolic AI originate from the early philosophical approaches to AI: connectionism (now neural) and symbolism. Symbolic AI is the more traditional AI. Diehard symbolists believed they could achieve true AGI via written rules, ontologies, and other logical functions.\n",
        "\n",
        "The other camp were the connectionists. Connectionism emerged in 1943 with a theoretical neural circuit but truly kicked off with Rosenblatt's perceptron paper in 1958 [1][2]. Both of these approaches to AI are fascinating but deserve more time than we can give them here, so we will leave further exploration of these concepts for a future chapter.\n",
        "\n",
        "Most important to us is understanding where symbolic logic outperforms neural-based compute and vice-versa.\n",
        "\n",
        "| Neural | Symbolic |\n",
        "| --- | --- |\n",
        "| Flexible, learned logic that can cover a huge range of potential scenarios. | Mostly hand-written rules which can be very granular and fine-tuned but hard to scale. |\n",
        "| Hard to interpret why a neural system does what it does. Very difficult or even impossible to predict behavior. | Rules are written and can be understood. When unsure why a particular ouput was produced we can look at the rules / logic to understand. |\n",
        "| Requires huge amount of data and compute to train state-of-the-art neural models, making it hard to add new abilities or update with new information. | Code is relatively cheap to write, it can be updated with new features easily, and latest information can often be added often instantaneously. |\n",
        "| When trained on broad datasets can often lack performance when exposed to unique scenarios that are not well represented in the training data. | Easily customized to unique scenarios. |\n",
        "| Struggles with complex computations such as mathematical operations. | Perform complex computations very quickly and accurately. |\n",
        "\n",
        "Pure neural architectures struggle with many seemingly simple tasks. For example, an LLM *cannot* provide an accurate answer if we ask it for today's date.\n",
        "\n",
        "Retrieval Augmented Generation (RAG) is commonly used to provide LLMs with up-to-date knowledge on a particular subject or access to proprietary knowledge.\n",
        "\n",
        "### Giving LLMs Superpowers\n",
        "\n",
        "By 2020, it was becoming clear that neural AI systems could not perform tasks symbolic systems typically excelled in, such as arithmetic, accessing structured DB data, or making API calls. These tasks require discrete input parameters that allow us to process them reliably according to strict written logic.\n",
        "\n",
        "In 2022, researchers at AI21 developed Jurassic-X, an LLM-based \"neuro-symbolic architecture.\" Neuro-symbolic refers to merging the \"neural computation\" of large language models (LLMs) with more traditional (i.e. symbolic) computation of code.\n",
        "\n",
        "Jurassic-X used the Modular Reasoning, Knowledge, and Language (MRKL) system [3]. The researchers developed MRKL to solve the limitations of LLMs, namely:\n",
        "\n",
        "- Lack of up-to-date knowledge, whether that is the latest in AI or something as simple as today's date.\n",
        "- Lack of proprietary knowledge, such as internal company docs or your calendar bookings.\n",
        "- Lack of reasoning, i.e. the inability to perform operations that traditional software is good at, like running complex mathematical operations.\n",
        "- Lack of ability to generalize. Back in 2022, most LLMs had to be fine-tuned to perform well in a specific domain. This problem is still present today but far less prominent as the SotA models generalize much better and, in the case of MRKL, are able to use tools relatively well (although we could certainly take the MRKL solution to improve tool use performance even today).\n",
        "\n",
        "MRKL represents one of the earliest forms of what we would now call an agent; it is an LLM (neural computation) paired with executable code (symbolic computation).\n",
        "\n",
        "## ReAct and Tools\n",
        "\n",
        "There is a misconception in the broader industry that an AI agent is an LLM contained within some looping logic that can generate inputs for and execute code functions. This definition of agents originates from the huge popularity of the ReAct agent framework and the adoption of a similar structure with function/tool calling by LLM providers such as OpenAI, Anthropic, and Ollama.\n",
        "\n",
        "![ReAct agent flow with the Reasoning-Action loop [4]. When the action chosen specifies to use a normal tool, the tool is used and the observation returned for another iteration through the Reasoning-Action loop. To return a final answer to the user the LLM must choose action \"answer\" and provide the natural language response, finishing the loop.](/images/posts/ai-agents/ai-agents-00.png)\n",
        "\n",
        "<small>ReAct agent flow with the Reasoning-Action loop [4]. When the action chosen specifies to use a normal tool, the tool is used and the observation returned for another iteration through the Reasoning-Action loop. To return a final answer to the user the LLM must choose action \"answer\" and provide the natural language response, finishing the loop.</small>\n",
        "\n",
        "Our \"neuro-symbolic\" definition is much broader but certainly does include ReAct agents and LLMs paired with tools. This agent type is the most common for now, so it's worth understanding the basic concept behind it.\n",
        "\n",
        "The **Re**ason **Act**ion (ReAct) method encourages LLMs to generate iterative *reasoning* and *action* steps. During *reasoning,* the LLM describes what steps are to be taken to answer the user's query. Then, the LLM generates an *action,* which we parse into an input to some executable code, which we typically describe as a tool/function call.\n",
        "\n",
        "![ReAct method. Each iteration includes a Reasoning step followed by an Action (tool call) step. The Observation is the output from the previous tool call. During the final iteration the agent calls the answer tool, meaning we generate the final answer for the user.](/images/posts/ai-agents/ai-agents-01.png)\n",
        "\n",
        "<small>ReAct method. Each iteration includes a Reasoning step followed by an Action (tool call) step. The Observation is the output from the previous tool call. During the final iteration the agent calls the answer tool, meaning we generate the final answer for the user.</small>\n",
        "\n",
        "Following the reason and action steps, our action tool call returns an observation. The logic returns the observation to the LLM, which is then used to generate subsequent reasoning and action steps.\n",
        "\n",
        "The ReAct loop continues until the LLM has enough information to answer the original input. Once the LLM reaches this state, it calls a special *answer* action with the generated answer for the user.\n",
        "\n",
        "## Not only LLMs and Tool Calls\n",
        "\n",
        "LLMs paired with tool calling are powerful but far from the only approach to building agents. Using the definition of neuro-symbolic, we cover architectures such as:\n",
        "\n",
        "- Multi-agent workflows that involve multiple LLM-tool (or other agent structure) combinations.\n",
        "- More deterministic workflows where we may have set neural model-tool paths that may fork or merge as the use case requires.\n",
        "- Embedding models that can detect user intents and decide tool-use or LLM selection-based selection in vector space.\n",
        "\n",
        "These are just a few high-level examples of alternative agent structures. Far from being designed for niche use cases, we find these alternative options to frequently perform better than the more common ReAct or Tool agents. We will cover all of these examples and more in future chapters.\n",
        "\n",
        "---\n",
        "\n",
        "Agents are fundamental to the future of AI, but that doesn't mean we should expect that future to come from agents in their most popular form today. ReAct and Tool agents are great and handle many simple use cases well, but the scope of agents is much broader, and we believe thinking beyond ReAct and Tools is key to building future AI.\n",
        "\n",
        "---\n",
        "\n",
        "You can sign up for the [Aurelio AI newsletter](https://b0fcw9ec53w.typeform.com/to/w2BDHVK7) to stay updated on future releases in our comprehensive course on agents.\n",
        "\n",
        "---\n",
        "\n",
        "## References\n",
        "\n",
        "[1] The curious case of Connectionism (2019) [https://www.degruyter.com/document/doi/10.1515/opphil-2019-0018/html](https://www.degruyter.com/document/doi/10.1515/opphil-2019-0018/html)\n",
        "\n",
        "[2] F. Rosenblatt, [The Perceptron: A Probabilistic Model for Information Storage and Organization in the Brain](https://www.ling.upenn.edu/courses/cogs501/Rosenblatt1958.pdf) (1958), Psychological Review\n",
        "\n",
        "[3] E. Karpas et al. [MRKL Systems: A Modular, Neuro-Symbolic Architecture That Combines Large Language Models, External Knowledge Sources and Discrete Reasoning](https://arxiv.org/abs/2205.00445) (2022), AI21 Labs\n",
        "\"\"\""
      ]
    },
    {
      "cell_type": "markdown",
      "metadata": {
        "id": "hM0HBv7bH6ao"
      },
      "source": [
        "## Preparing our Prompts"
      ]
    },
    {
      "cell_type": "markdown",
      "metadata": {
        "id": "HmFcbFU4H6ao"
      },
      "source": [
        "LangChain comes with several prompt classes and methods for organizing or constructing our prompts. We will cover these in more detail in later examples, but for now we'll cover the essentials that we need here.\n",
        "\n",
        "Prompts for chat agents are at a minimum broken up into three components, those are:\n",
        "\n",
        "* System prompt: this provides the instructions to our LLM on how it must behave, what it's objective is, etc.\n",
        "\n",
        "* User prompt: this is a user written input.\n",
        "\n",
        "* AI prompt: this is the AI generated output. When representing a conversation, previous generations will be inserted back into the next prompt and become part of the broader _chat history_.\n",
        "\n",
        "```\n",
        "You are a helpful AI assistant, you will do XYZ.    | SYSTEM PROMPT\n",
        "\n",
        "User: Hi, what is the capital of Australia?         | USER PROMPT\n",
        "AI: It is Canberra                                  | AI PROMPT\n",
        "User: When is the best time to visit?               | USER PROMPT\n",
        "```\n",
        "\n",
        "LangChain provides us with _templates_ for each of these prompt types. By using templates we can insert different inputs to the template, modifying the prompt based on the provided inputs.\n",
        "\n",
        "Let's initialize our system and user prompt first:"
      ]
    },
    {
      "cell_type": "code",
      "execution_count": 51,
      "metadata": {
        "id": "2gsWvNLcH6ao"
      },
      "outputs": [],
      "source": [
        "from langchain.prompts import SystemMessagePromptTemplate, HumanMessagePromptTemplate\n",
        "\n",
        "# Defining the system prompt (how the AI should act)\n",
        "system_prompt = SystemMessagePromptTemplate.from_template(\n",
        "    \"You are an {owner} AI assistant that helps generate article titles.\"\n",
        ")\n",
        "\n",
        "# the user prompt is provided by the user, in this case however the only dynamic\n",
        "# input is the article\n",
        "user_prompt = HumanMessagePromptTemplate.from_template(\n",
        "    \"\"\"You are tasked with creating a name for a article.\n",
        "The article is here for you to examine \n",
        "------\n",
        "\n",
        "{article}\n",
        "\n",
        "-------\n",
        "\n",
        "The name should be based of the context of the article.\n",
        "Be creative, but make sure the names are clear, catchy,\n",
        "and relevant to the theme of the article.\n",
        "\n",
        "Only output the article name, no other explanation or\n",
        "text can be provided.\"\"\",\n",
        "    input_variables=[\"article\"]\n",
        ")"
      ]
    },
    {
      "cell_type": "markdown",
      "metadata": {
        "id": "TaCnQaAdH6ao"
      },
      "source": [
        "We can display what our formatted human prompt would look like after inserting a value into the `article` parameter:"
      ]
    },
    {
      "cell_type": "code",
      "execution_count": 52,
      "metadata": {
        "colab": {
          "base_uri": "https://localhost:8080/"
        },
        "id": "C3PlnjtEH6ao",
        "outputId": "b1509cf0-2b95-433c-9596-c94a20dff82e"
      },
      "outputs": [
        {
          "data": {
            "text/plain": [
              "HumanMessage(content='You are tasked with creating a name for a article.\\nThe article is here for you to examine \\n------\\n\\nTEST STRING\\n\\n-------\\n\\nThe name should be based of the context of the article.\\nBe creative, but make sure the names are clear, catchy,\\nand relevant to the theme of the article.\\n\\nOnly output the article name, no other explanation or\\ntext can be provided.', additional_kwargs={}, response_metadata={})"
            ]
          },
          "execution_count": 52,
          "metadata": {},
          "output_type": "execute_result"
        }
      ],
      "source": [
        "user_prompt.format(article=\"TEST STRING\") # replace te placeholder like article\n",
        "# system_prompt.format() # SystemMessage(content='You are an AI assistant that helps generate article titles.', additional_kwargs={}, response_metadata={})\n",
        "# system_prompt # SystemMessagePromptTemplate(prompt=PromptTemplate(input_variables=[], input_types={}, partial_variables={}, template='You are an AI assistant that helps generate article titles.'), additional_kwargs={})"
      ]
    },
    {
      "cell_type": "markdown",
      "metadata": {
        "id": "VDbNHkm3H6ap"
      },
      "source": [
        "We have our system and user prompts, we can merge both into our full chat prompt using the `ChatPromptTemplate`:"
      ]
    },
    {
      "cell_type": "code",
      "execution_count": 53,
      "metadata": {
        "id": "GeokbXtIH6ap"
      },
      "outputs": [
        {
          "data": {
            "text/plain": [
              "SystemMessage(content='You are an Gemini AI assistant that helps generate article titles.', additional_kwargs={}, response_metadata={})"
            ]
          },
          "execution_count": 53,
          "metadata": {},
          "output_type": "execute_result"
        }
      ],
      "source": [
        "system_prompt.format(owner=\"Gemini\")"
      ]
    },
    {
      "cell_type": "code",
      "execution_count": 54,
      "metadata": {},
      "outputs": [],
      "source": [
        "from langchain.prompts import ChatPromptTemplate\n",
        "\n",
        "first_prompt = ChatPromptTemplate.from_messages([system_prompt, user_prompt])"
      ]
    },
    {
      "cell_type": "markdown",
      "metadata": {
        "id": "7K70F86jH6ap"
      },
      "source": [
        "By default, the `ChatPromptTemplate` will read the `input_variables` from each of the prompt templates inserted and allow us to use those input variables when formatting the full chat prompt template:"
      ]
    },
    {
      "cell_type": "code",
      "execution_count": 55,
      "metadata": {
        "colab": {
          "base_uri": "https://localhost:8080/"
        },
        "id": "aHnbZ5iUH6ap",
        "outputId": "8d7186cc-fef5-497f-8319-b055ca9d4cb6"
      },
      "outputs": [
        {
          "name": "stdout",
          "output_type": "stream",
          "text": [
            "System: You are an Gemini AI assistant that helps generate article titles.\n",
            "Human: You are tasked with creating a name for a article.\n",
            "The article is here for you to examine \n",
            "------\n",
            "\n",
            "TEST STRING\n",
            "\n",
            "-------\n",
            "\n",
            "The name should be based of the context of the article.\n",
            "Be creative, but make sure the names are clear, catchy,\n",
            "and relevant to the theme of the article.\n",
            "\n",
            "Only output the article name, no other explanation or\n",
            "text can be provided.\n"
          ]
        }
      ],
      "source": [
        "print(first_prompt.format(article=\"TEST STRING\", owner=\"Gemini\"))"
      ]
    },
    {
      "cell_type": "markdown",
      "metadata": {
        "id": "Y-5Sv9XoH6ap"
      },
      "source": [
        "`ChatPromptTemplate` also prefixes each individual message with it's role, ie `System:`, `Human:`, or `AI:`.\n",
        "\n",
        "We can chain together our `first_prompt` template and the `llm` object we defined earlier to create a simple LLM chain. This chain will perform the steps **prompt formatting > llm generation > get output**.\n",
        "\n",
        "We'll be using **L**ang**C**hain **E**xpression **L**anguage (LCEL) to construct our chain. This syntax can look a little strange but we will cover it in detail later in the course. For now, all we need to know is that we define our inputs with the first dictionary segment (ie `{\"article\": lambda x: x[\"article\"]}`) and then we use the pipe operator (`|`) to say that the output from the left of the pipe will be fed into the input to the right of the pipe."
      ]
    },
    {
      "cell_type": "code",
      "execution_count": 63,
      "metadata": {
        "id": "7z1PNdmxSCJY"
      },
      "outputs": [
        {
          "name": "stdout",
          "output_type": "stream",
          "text": [
            "model\n",
            "model\n"
          ]
        }
      ],
      "source": [
        "# Using normal functions\n",
        "def get_article(x):\n",
        "    return x[\"article\"]\n",
        "\n",
        "def get_llm(x):\n",
        "    return x[\"owner\"]\n",
        "\n",
        "def get_content(x):\n",
        "    return x.content\n",
        "\n",
        "chain_one_with_functions = (\n",
        "    {\"article\": get_article, \"owner\": get_llm}\n",
        "    | first_prompt\n",
        "    | creative_llm\n",
        "    | {\"article_title\": get_content}\n",
        ")\n",
        "\n",
        "# Using Lambda \n",
        "# chain_one = (\n",
        "#     {\"article\": lambda x: x[\"article\"], \"llm\": lambda x: x[\"llm\"]}\n",
        "#     | first_prompt\n",
        "#     | creative_llm\n",
        "#     | {\"article_title\": lambda x: x.content}\n",
        "# )\n",
        "\n",
        "#using Runnables \n",
        "from langchain_core.runnables import RunnablePassthrough, RunnableLambda\n",
        "\n",
        "chain_one = (\n",
        "    RunnablePassthrough.assign(\n",
        "        article=lambda x: x[\"article\"],\n",
        "        owner=lambda x: x[\"owner\"]\n",
        "    )\n",
        "    | first_prompt\n",
        "    | creative_llm\n",
        "    # | (lambda x: {\"article_title\": x.content})\n",
        "   | RunnableLambda(lambda x: {\"article_title\": x.content})   # Convert AIMessage → dict\n",
        ")\n",
        "\n",
        "def build_chain(model):\n",
        "    print(\"model\")\n",
        "    return (\n",
        "        {\"article\": lambda x: x[\"article\"], \"owner\": lambda x: x[\"owner\"]}\n",
        "        | first_prompt\n",
        "        | model\n",
        "        | (lambda x: {\"article_title\": x.content})\n",
        "    )\n",
        "\n",
        "# Use different models\n",
        "chain_normal = build_chain(llm)\n",
        "chain_creative = build_chain(creative_llm)\n",
        "    "
      ]
    },
    {
      "cell_type": "markdown",
      "metadata": {
        "id": "xcXrW5aoH6ap"
      },
      "source": [
        "Our first chain creates the article title, note: we can run all of these individually..."
      ]
    },
    {
      "cell_type": "code",
      "execution_count": null,
      "metadata": {
        "colab": {
          "base_uri": "https://localhost:8080/"
        },
        "id": "pKLWN56xH6ap",
        "outputId": "abf21141-8958-40d2-bba2-c75a0f48d90e"
      },
      "outputs": [
        {
          "data": {
            "text/plain": [
              "{'article_title': 'The Dawn of AI Agents: Merging Neural and Symbolic Power'}"
            ]
          },
          "execution_count": 57,
          "metadata": {},
          "output_type": "execute_result"
        }
      ],
      "source": [
        "def build_chain(model):\n",
        "    return (\n",
        "        {\"article\": lambda x: x[\"article\"], \"owner\": lambda x: x[\"owner\"]}\n",
        "        | first_prompt # prompt\n",
        "        | model # model llm \n",
        "        | (lambda x: {\"article_title\": x.content})\n",
        "    )\n",
        "\n",
        "# Use different models\n",
        "chain_normal = build_chain(llm)\n",
        "chain_creative = build_chain(creative_llm)"
      ]
    },
    {
      "cell_type": "code",
      "execution_count": 64,
      "metadata": {},
      "outputs": [
        {
          "data": {
            "text/plain": [
              "{'article_title': 'The Dawn of AI Agents: Merging Neural and Symbolic Power'}"
            ]
          },
          "execution_count": 64,
          "metadata": {},
          "output_type": "execute_result"
        }
      ],
      "source": [
        "# article_title_msg = chain_one_with_functions.invoke({\"article\": article, \"llm\":\"Gemini\"})\n",
        "article_title_msg = chain_creative.invoke({\"article\": article, \"owner\":\"Gemini\"})\n",
        "\n",
        "article_title_msg"
      ]
    },
    {
      "cell_type": "markdown",
      "metadata": {
        "id": "n6iDE_RwH6ap"
      },
      "source": [
        "But we will actually chain this step with multiple other `LLMChain` steps. So, to continue, our next step is to summarize the article using both the `article` and newly generated `article_title` values, from which we will output a new `summary` variable:"
      ]
    },
    {
      "cell_type": "code",
      "execution_count": 75,
      "metadata": {
        "id": "qtLcHVxSH6ap"
      },
      "outputs": [],
      "source": [
        "second_user_prompt = HumanMessagePromptTemplate.from_template(\n",
        "    \"\"\"You are tasked with creating a description for\n",
        "the article. The article is here for you to examine:\n",
        "\n",
        "---\n",
        "\n",
        "{article}\n",
        "\n",
        "---\n",
        "\n",
        "Here is the article title '{article_title}'.\n",
        "\n",
        "Output the SEO friendly article description. Do not output\n",
        "anything other than the description.\n",
        "\n",
        "Give me creative, engaging, and concise summaries under 100 words\"\"\",\n",
        "    input_variables=[\"article\", \"article_title\"]\n",
        ")\n",
        "\n",
        "second_prompt = ChatPromptTemplate.from_messages([\n",
        "    system_prompt,\n",
        "    second_user_prompt\n",
        "])"
      ]
    },
    {
      "cell_type": "code",
      "execution_count": 76,
      "metadata": {
        "id": "TPFKMq8tcmw-"
      },
      "outputs": [],
      "source": [
        "chain_two = (\n",
        "    {\n",
        "        \"owner\": lambda x: x[\"owner\"],\n",
        "        \"article\": lambda x: x[\"article\"],\n",
        "        \"article_title\": lambda x: x[\"article_title\"]\n",
        "    }\n",
        "    | second_prompt\n",
        "    | llm\n",
        "    | {\"summary\": lambda x: x.content}\n",
        ")"
      ]
    },
    {
      "cell_type": "code",
      "execution_count": 77,
      "metadata": {
        "colab": {
          "base_uri": "https://localhost:8080/"
        },
        "id": "pdhUjj89efRw",
        "outputId": "008fb4f0-64e6-4533-b72e-86c905e520db"
      },
      "outputs": [
        {
          "data": {
            "text/plain": [
              "{'summary': 'Explore the future of AI with agents, a powerful fusion of neural networks and symbolic logic. Discover how this neuro-symbolic approach, from early systems like MRKL to ReAct frameworks, is unlocking new capabilities for AI, enabling it to interact with the world of code and beyond.'}"
            ]
          },
          "execution_count": 77,
          "metadata": {},
          "output_type": "execute_result"
        }
      ],
      "source": [
        "article_description_msg = chain_two.invoke({\n",
        "    \"article\": article,\n",
        "    \"article_title\": article_title_msg[\"article_title\"],\n",
        "    \"owner\": \"Gemini\"\n",
        "})\n",
        "article_description_msg"
      ]
    },
    {
      "cell_type": "markdown",
      "metadata": {
        "id": "0SEGMX9BH6ap"
      },
      "source": [
        "The third step will consume our first `article` variable and provide several output fields, focusing on helping the user improve a part of their writing. As we are outputting multiple fields we can specify for the LLM to use structured outputs, keeping the generated fields aligned with our requirements."
      ]
    },
    {
      "cell_type": "code",
      "execution_count": 78,
      "metadata": {
        "id": "PPQf5ycHH6ap"
      },
      "outputs": [],
      "source": [
        "third_user_prompt = HumanMessagePromptTemplate.from_template(\n",
        "    \"\"\"You are tasked with creating a new paragraph for the\n",
        "article. The article is here for you to examine:\n",
        "\n",
        "---\n",
        "\n",
        "{article}\n",
        "\n",
        "---\n",
        "\n",
        "Choose one paragraph to review and edit. During your edit\n",
        "ensure you provide constructive feedback to the user so they\n",
        "can learn where to improve their own writing.\"\"\",\n",
        "    input_variables=[\"article\"]\n",
        ")\n",
        "\n",
        "# prompt template 3: creating a new paragraph for the article\n",
        "third_prompt = ChatPromptTemplate.from_messages([\n",
        "    system_prompt,\n",
        "    third_user_prompt\n",
        "])"
      ]
    },
    {
      "cell_type": "markdown",
      "metadata": {
        "id": "SKUX9TFuDP0J"
      },
      "source": [
        "We create a pydantic object describing the output format we need. This format description is then passed to our model using the `with_structured_output` method:"
      ]
    },
    {
      "cell_type": "code",
      "execution_count": 87,
      "metadata": {
        "id": "W1VHC0VSDdDM"
      },
      "outputs": [],
      "source": [
        "from pydantic import BaseModel, Field\n",
        "\n",
        "class Paragraph(BaseModel):\n",
        "    # the best way to get the output in the structured format\n",
        "    original_paragraph: str = Field(description=\"The original paragraph\")\n",
        "    edited_paragraph: str = Field(description=\"The improved edited paragraph\")\n",
        "    feedback: int = Field(description=(\n",
        "        \"Constructive feedback on the original paragraph\"))\n",
        "    review: str = Field(description=(\"Constructive feedback on the original paragraph\"))\n",
        "\n",
        "structured_llm = creative_llm.with_structured_output(Paragraph)"
      ]
    },
    {
      "cell_type": "markdown",
      "metadata": {
        "id": "7kOGsMRhEIyZ"
      },
      "source": [
        "Now we put all of this together in another chain:"
      ]
    },
    {
      "cell_type": "code",
      "execution_count": 95,
      "metadata": {
        "id": "4sIuyP-L-u7A"
      },
      "outputs": [],
      "source": [
        "# chain 3: inputs: article / output: article_para\n",
        "chain_three = (\n",
        "    {\"article\": lambda x: x[\"article\"], \"owner\": lambda x: x[\"owner\"]}\n",
        "    | third_prompt\n",
        "    | structured_llm\n",
        "    | {\n",
        "        \"original_paragraph\": lambda x: x.original_paragraph,\n",
        "        \"edited_paragraph\": lambda x: x.edited_paragraph,\n",
        "        \"feedback\": lambda x: x.feedback,\n",
        "        \"review\": lambda x: x.review\n",
        "    }\n",
        ")"
      ]
    },
    {
      "cell_type": "code",
      "execution_count": 96,
      "metadata": {
        "colab": {
          "base_uri": "https://localhost:8080/"
        },
        "id": "hLnzeFPSEZkJ",
        "outputId": "1c009230-a7ee-4b76-826d-aec9125956b5"
      },
      "outputs": [
        {
          "data": {
            "text/plain": [
              "{'original_paragraph': 'By 2020, it was becoming clear that neural AI systems could not perform tasks symbolic systems typically excelled in, such as arithmetic, accessing structured DB data, or making API calls. These tasks require discrete input parameters that allow us to process them reliably according to strict written logic.\\n\\nIn 2022, researchers at AI21 developed Jurassic-X, an LLM-based \"neuro-symbolic architecture.\" Neuro-symbolic refers to merging the \"neural computation\" of large language models (LLMs) with more traditional (i.e. symbolic) computation of code.\\n\\nJurassic-X used the Modular Reasoning, Knowledge, and Language (MRKL) system [3]. The researchers developed MRKL to solve the limitations of LLMs, namely:\\n\\n- Lack of up-to-date knowledge, whether that is the latest in AI or something as simple as today\\'s date.\\n- Lack of proprietary knowledge, such as internal company docs or your calendar bookings.\\n- Lack of reasoning, i.e. the inability to perform operations that traditional software is good at, like running complex mathematical operations.\\n- Lack of ability to generalize. Back in 2022, most LLMs had to be fine-tuned to perform well in a specific domain. This problem is still present today but far less prominent as the SotA models generalize much better and, in the case of MRKL, are able to use tools relatively well (although we could certainly take the MRKL solution to improve tool use performance even today).\\n\\nMRKL represents one of the earliest forms of what we would now call an agent; it is an LLM (neural computation) paired with executable code (symbolic computation).',\n",
              " 'edited_paragraph': 'Around 2020, a significant gap emerged in AI capabilities: neural systems struggled with tasks that symbolic systems traditionally handled well, such as complex calculations, database queries, and API integrations. These operations rely on precise, discrete inputs processed through well-defined logic.\\n\\nIn 2022, AI21 Labs introduced Jurassic-X, a pioneering \"neuro-symbolic architecture.\" This approach merged the advanced pattern recognition of large language models (LLMs) with the structured processing of traditional code.\\n\\nJurassic-X was built upon the Modular Reasoning, Knowledge, and Language (MRKL) system. The MRKL system was designed to address key limitations observed in LLMs at the time:\\n\\n*   **Outdated Knowledge:** LLMs lacked real-time information, from current events to simple data like the date.\\n*   **Limited Proprietary Access:** They could not access private data such as internal company documents or user calendars.\\n*   **Inadequate Reasoning:** LLMs faltered in performing operations requiring strict logic, like mathematical computations.\\n*   **Poor Generalization:** Many LLMs required extensive fine-tuning for specific domains. While newer models generalize better, MRKL demonstrated an effective way to improve domain-specific performance through tool use.\\n\\nMRKL can be seen as an early precursor to modern AI agents, effectively combining an LLM (neural computation) with executable code (symbolic computation).',\n",
              " 'feedback': 5,\n",
              " 'review': 'This is a well-written and informative paragraph. The edits focus on improving clarity, flow, and conciseness. Here'}"
            ]
          },
          "execution_count": 96,
          "metadata": {},
          "output_type": "execute_result"
        }
      ],
      "source": [
        "out = chain_three.invoke({\"article\": article,\n",
        "    \"owner\": \"Gemini\"})\n",
        "out\n",
        "#{'original_paragraph': 'Neuro-symbolic systems consist of both neural and symbolic computation, where:\\n\\n- Neural refers to LLMs, embedding models, or other neural network-based models.\\n- Symbolic refers to logic containing symbolic logic, such as code.\\n\\nBoth neural and symbolic AI originate from the early philosophical approaches to AI: connectionism (now neural) and symbolism. Symbolic AI is the more traditional AI. Diehard symbolists believed they could achieve true AGI via written rules, ontologies, and other logical functions.',\n",
        "#  'edited_paragraph': 'Neuro-symbolic systems uniquely combine neural and symbolic computation, encompassing both aspects:\\n\\n- \"Neural\" pertains to Large Language Models (LLMs), embedding models, and other neural network frameworks.\\n- \"Symbolic\" signifies the logic and structures inherent in traditional programming and symbolic representation.\\n\\nBoth forms of AI trace their origins back to foundational philosophical schools: connectionism, which has evolved into today\\'s neural AI, and symbolism, the cornerstone of conventional AI. Proponents of symbolic AI, often referred to as diehard symbolists, firmly believe that achieving true AGI is possible through meticulously defined rules, ontologies, and logical functions.',\n",
        "#  'feedback': \"Your paragraph provides a solid introduction to neuro-symbolic systems, but it could be more concise and engaging. Consider restructuring some sentences for clarity and flow. For example, the distinction between 'neural' and 'symbolic' could be emphasized without repetition. Using quotes around terms like 'Neural' and 'Symbolic' enhances readability, and adding examples can make the concepts more accessible to readers unfamiliar with the terms. Overall, aim for tighter organization and more variation in sentence structure to maintain reader interest.\"}"
      ]
    },
    {
      "cell_type": "markdown",
      "metadata": {
        "id": "PZ-sfqNnH6aq"
      },
      "source": [
        "Now we want this article to look appealing, so we need to grab an image based of our article! However the prompt for the article image `cannot be over 1000 letters` so this has to be short in case we want to add anything in such as `style` later on."
      ]
    },
    {
      "cell_type": "code",
      "execution_count": 108,
      "metadata": {
        "id": "h7ew1WT4H6aq"
      },
      "outputs": [],
      "source": [
        "from langchain.prompts import ChatPromptTemplate, SystemMessagePromptTemplate, HumanMessagePromptTemplate\n",
        "\n",
        "# Create chat-style prompts for image generation\n",
        "image_system_prompt = SystemMessagePromptTemplate.from_template(\n",
        "    \"You are an expert at creating clear, descriptive image prompts. Focus on the key visual elements and concepts.\"\n",
        ")\n",
        "\n",
        "image_human_prompt = HumanMessagePromptTemplate.from_template(\n",
        "    \"\"\"Create a visually appealing image prompt that represents the key concepts from this article.\n",
        "Keep the description clear and concise, under 100 words: {article}\"\"\"\n",
        ")\n",
        "\n",
        "# Combine into a ChatPromptTemplate\n",
        "image_prompt = ChatPromptTemplate.from_messages([\n",
        "    image_system_prompt,\n",
        "    image_human_prompt\n",
        "])"
      ]
    },
    {
      "cell_type": "markdown",
      "metadata": {
        "id": "kjZ_rqPZH6aq"
      },
      "source": [
        "The `generate_and_display` function will generate the article image once we have the prompt from our image prompt."
      ]
    },
    {
      "cell_type": "code",
      "execution_count": 115,
      "metadata": {
        "id": "LLxLXKS4H6aq"
      },
      "outputs": [],
      "source": [
        "from PIL import Image\n",
        "import requests \n",
        "from io import BytesIO\n",
        "import matplotlib.pyplot as plt\n",
        "from langchain_core.runnables import RunnableLambda\n",
        "import google.generativeai as genai\n",
        "\n",
        "def generate_and_display_image(image_prompt):\n",
        "    # Initialize the Gemini Pro Vision model for image generation\n",
        "    genai.configure(api_key=os.getenv(\"GOOGLE_API_KEY\"))\n",
        "    model = genai.GenerativeModel('gemini-2.5-flash-image')   \n",
        "    # Generate the image\n",
        "    response = model.generate_content(image_prompt)\n",
        "    if response.candidates[0].content.parts:\n",
        "        image_url = response.candidates[0].content.parts[0].text\n",
        "        \n",
        "        # Download and display the image\n",
        "        response = requests.get(image_url)      \n",
        "        image = Image.open(BytesIO(response.content))\n",
        "        \n",
        "        # Display using matplotlib\n",
        "        plt.imshow(image)\n",
        "        plt.axis('off')\n",
        "        plt.show()\n",
        "    else:\n",
        "        print(\"No image was generated\")\n",
        "\n",
        "# we wrap this in a RunnableLambda for use with LCEL\n",
        "image_gen_runnable = RunnableLambda(generate_and_display_image)"
      ]
    },
    {
      "cell_type": "markdown",
      "metadata": {
        "id": "Q3bIZVzcvkJJ"
      },
      "source": [
        "We have all of our image generation components ready, we chain them together again with LCEL:"
      ]
    },
    {
      "cell_type": "code",
      "execution_count": 116,
      "metadata": {
        "id": "J1QQtXtfAwRU"
      },
      "outputs": [],
      "source": [
        "# chain 4: inputs: article, article_para / outputs: new_suggestion_article\n",
        "chain_four = (\n",
        "    {\"article\": lambda x: x[\"article\"], \"owner\": lambda x: x[\"owner\"]}\n",
        "    | image_prompt  # Now using ChatPromptTemplate\n",
        "    | llm\n",
        "    | RunnableLambda(lambda x: x.content)  # Extract content from AIMessage\n",
        "    | image_gen_runnable\n",
        ")"
      ]
    },
    {
      "cell_type": "markdown",
      "metadata": {
        "id": "yHl5sfMNvr-J"
      },
      "source": [
        "And now, we `invoke` our final chain:"
      ]
    },
    {
      "cell_type": "code",
      "execution_count": 118,
      "metadata": {
        "colab": {
          "base_uri": "https://localhost:8080/",
          "height": 406
        },
        "id": "dAU3jI0VvGlp",
        "outputId": "e0924fa6-4698-4d86-93fa-de8fcdbaac67"
      },
      "outputs": [
        {
          "ename": "ResourceExhausted",
          "evalue": "429 You exceeded your current quota, please check your plan and billing details. For more information on this error, head to: https://ai.google.dev/gemini-api/docs/rate-limits. To monitor your current usage, head to: https://ai.dev/usage?tab=rate-limit.\n* Quota exceeded for metric: generativelanguage.googleapis.com/generate_content_free_tier_requests, limit: 0\n* Quota exceeded for metric: generativelanguage.googleapis.com/generate_content_free_tier_requests, limit: 0\n* Quota exceeded for metric: generativelanguage.googleapis.com/generate_content_free_tier_input_token_count, limit: 0\nPlease retry in 23.333211135s. [violations {\n  quota_metric: \"generativelanguage.googleapis.com/generate_content_free_tier_requests\"\n  quota_id: \"GenerateRequestsPerDayPerProjectPerModel-FreeTier\"\n  quota_dimensions {\n    key: \"model\"\n    value: \"gemini-2.5-flash-preview-image\"\n  }\n  quota_dimensions {\n    key: \"location\"\n    value: \"global\"\n  }\n}\nviolations {\n  quota_metric: \"generativelanguage.googleapis.com/generate_content_free_tier_requests\"\n  quota_id: \"GenerateRequestsPerMinutePerProjectPerModel-FreeTier\"\n  quota_dimensions {\n    key: \"model\"\n    value: \"gemini-2.5-flash-preview-image\"\n  }\n  quota_dimensions {\n    key: \"location\"\n    value: \"global\"\n  }\n}\nviolations {\n  quota_metric: \"generativelanguage.googleapis.com/generate_content_free_tier_input_token_count\"\n  quota_id: \"GenerateContentInputTokensPerModelPerMinute-FreeTier\"\n  quota_dimensions {\n    key: \"model\"\n    value: \"gemini-2.5-flash-preview-image\"\n  }\n  quota_dimensions {\n    key: \"location\"\n    value: \"global\"\n  }\n}\n, links {\n  description: \"Learn more about Gemini API quotas\"\n  url: \"https://ai.google.dev/gemini-api/docs/rate-limits\"\n}\n, retry_delay {\n  seconds: 23\n}\n]",
          "output_type": "error",
          "traceback": [
            "\u001b[0;31m---------------------------------------------------------------------------\u001b[0m",
            "\u001b[0;31mResourceExhausted\u001b[0m                         Traceback (most recent call last)",
            "Cell \u001b[0;32mIn[118], line 1\u001b[0m\n\u001b[0;32m----> 1\u001b[0m \u001b[43mchain_four\u001b[49m\u001b[38;5;241;43m.\u001b[39;49m\u001b[43minvoke\u001b[49m\u001b[43m(\u001b[49m\u001b[43m{\u001b[49m\u001b[38;5;124;43m\"\u001b[39;49m\u001b[38;5;124;43marticle\u001b[39;49m\u001b[38;5;124;43m\"\u001b[39;49m\u001b[43m:\u001b[49m\u001b[43m \u001b[49m\u001b[43marticle\u001b[49m\u001b[43m,\u001b[49m\u001b[43m \u001b[49m\u001b[38;5;124;43m\"\u001b[39;49m\u001b[38;5;124;43mowner\u001b[39;49m\u001b[38;5;124;43m\"\u001b[39;49m\u001b[43m:\u001b[49m\u001b[43m \u001b[49m\u001b[38;5;124;43m\"\u001b[39;49m\u001b[38;5;124;43mGemini\u001b[39;49m\u001b[38;5;124;43m\"\u001b[39;49m\u001b[43m}\u001b[49m\u001b[43m)\u001b[49m\n",
            "File \u001b[0;32m~/Desktop/LangchainLearning/.venv/lib/python3.12/site-packages/langchain_core/runnables/base.py:3024\u001b[0m, in \u001b[0;36mRunnableSequence.invoke\u001b[0;34m(self, input, config, **kwargs)\u001b[0m\n\u001b[1;32m   3022\u001b[0m             \u001b[38;5;28minput\u001b[39m \u001b[38;5;241m=\u001b[39m context\u001b[38;5;241m.\u001b[39mrun(step\u001b[38;5;241m.\u001b[39minvoke, \u001b[38;5;28minput\u001b[39m, config, \u001b[38;5;241m*\u001b[39m\u001b[38;5;241m*\u001b[39mkwargs)\n\u001b[1;32m   3023\u001b[0m         \u001b[38;5;28;01melse\u001b[39;00m:\n\u001b[0;32m-> 3024\u001b[0m             \u001b[38;5;28minput\u001b[39m \u001b[38;5;241m=\u001b[39m \u001b[43mcontext\u001b[49m\u001b[38;5;241;43m.\u001b[39;49m\u001b[43mrun\u001b[49m\u001b[43m(\u001b[49m\u001b[43mstep\u001b[49m\u001b[38;5;241;43m.\u001b[39;49m\u001b[43minvoke\u001b[49m\u001b[43m,\u001b[49m\u001b[43m \u001b[49m\u001b[38;5;28;43minput\u001b[39;49m\u001b[43m,\u001b[49m\u001b[43m \u001b[49m\u001b[43mconfig\u001b[49m\u001b[43m)\u001b[49m\n\u001b[1;32m   3025\u001b[0m \u001b[38;5;66;03m# finish the root run\u001b[39;00m\n\u001b[1;32m   3026\u001b[0m \u001b[38;5;28;01mexcept\u001b[39;00m \u001b[38;5;167;01mBaseException\u001b[39;00m \u001b[38;5;28;01mas\u001b[39;00m e:\n",
            "File \u001b[0;32m~/Desktop/LangchainLearning/.venv/lib/python3.12/site-packages/langchain_core/runnables/base.py:4713\u001b[0m, in \u001b[0;36mRunnableLambda.invoke\u001b[0;34m(self, input, config, **kwargs)\u001b[0m\n\u001b[1;32m   4699\u001b[0m \u001b[38;5;250m\u001b[39m\u001b[38;5;124;03m\"\"\"Invoke this Runnable synchronously.\u001b[39;00m\n\u001b[1;32m   4700\u001b[0m \n\u001b[1;32m   4701\u001b[0m \u001b[38;5;124;03mArgs:\u001b[39;00m\n\u001b[0;32m   (...)\u001b[0m\n\u001b[1;32m   4710\u001b[0m \u001b[38;5;124;03m    TypeError: If the Runnable is a coroutine function.\u001b[39;00m\n\u001b[1;32m   4711\u001b[0m \u001b[38;5;124;03m\"\"\"\u001b[39;00m\n\u001b[1;32m   4712\u001b[0m \u001b[38;5;28;01mif\u001b[39;00m \u001b[38;5;28mhasattr\u001b[39m(\u001b[38;5;28mself\u001b[39m, \u001b[38;5;124m\"\u001b[39m\u001b[38;5;124mfunc\u001b[39m\u001b[38;5;124m\"\u001b[39m):\n\u001b[0;32m-> 4713\u001b[0m     \u001b[38;5;28;01mreturn\u001b[39;00m \u001b[38;5;28;43mself\u001b[39;49m\u001b[38;5;241;43m.\u001b[39;49m\u001b[43m_call_with_config\u001b[49m\u001b[43m(\u001b[49m\n\u001b[1;32m   4714\u001b[0m \u001b[43m        \u001b[49m\u001b[38;5;28;43mself\u001b[39;49m\u001b[38;5;241;43m.\u001b[39;49m\u001b[43m_invoke\u001b[49m\u001b[43m,\u001b[49m\n\u001b[1;32m   4715\u001b[0m \u001b[43m        \u001b[49m\u001b[38;5;28;43minput\u001b[39;49m\u001b[43m,\u001b[49m\n\u001b[1;32m   4716\u001b[0m \u001b[43m        \u001b[49m\u001b[38;5;28;43mself\u001b[39;49m\u001b[38;5;241;43m.\u001b[39;49m\u001b[43m_config\u001b[49m\u001b[43m(\u001b[49m\u001b[43mconfig\u001b[49m\u001b[43m,\u001b[49m\u001b[43m \u001b[49m\u001b[38;5;28;43mself\u001b[39;49m\u001b[38;5;241;43m.\u001b[39;49m\u001b[43mfunc\u001b[49m\u001b[43m)\u001b[49m\u001b[43m,\u001b[49m\n\u001b[1;32m   4717\u001b[0m \u001b[43m        \u001b[49m\u001b[38;5;241;43m*\u001b[39;49m\u001b[38;5;241;43m*\u001b[39;49m\u001b[43mkwargs\u001b[49m\u001b[43m,\u001b[49m\n\u001b[1;32m   4718\u001b[0m \u001b[43m    \u001b[49m\u001b[43m)\u001b[49m\n\u001b[1;32m   4719\u001b[0m \u001b[38;5;28;01melse\u001b[39;00m:\n\u001b[1;32m   4720\u001b[0m     msg \u001b[38;5;241m=\u001b[39m (\n\u001b[1;32m   4721\u001b[0m         \u001b[38;5;124m\"\u001b[39m\u001b[38;5;124mCannot invoke a coroutine function synchronously.\u001b[39m\u001b[38;5;124m\"\u001b[39m\n\u001b[1;32m   4722\u001b[0m         \u001b[38;5;124m\"\u001b[39m\u001b[38;5;124mUse `ainvoke` instead.\u001b[39m\u001b[38;5;124m\"\u001b[39m\n\u001b[1;32m   4723\u001b[0m     )\n",
            "File \u001b[0;32m~/Desktop/LangchainLearning/.venv/lib/python3.12/site-packages/langchain_core/runnables/base.py:1927\u001b[0m, in \u001b[0;36mRunnable._call_with_config\u001b[0;34m(self, func, input, config, run_type, serialized, **kwargs)\u001b[0m\n\u001b[1;32m   1923\u001b[0m     context \u001b[38;5;241m=\u001b[39m copy_context()\n\u001b[1;32m   1924\u001b[0m     context\u001b[38;5;241m.\u001b[39mrun(_set_config_context, child_config)\n\u001b[1;32m   1925\u001b[0m     output \u001b[38;5;241m=\u001b[39m cast(\n\u001b[1;32m   1926\u001b[0m         Output,\n\u001b[0;32m-> 1927\u001b[0m         \u001b[43mcontext\u001b[49m\u001b[38;5;241;43m.\u001b[39;49m\u001b[43mrun\u001b[49m\u001b[43m(\u001b[49m\n\u001b[1;32m   1928\u001b[0m \u001b[43m            \u001b[49m\u001b[43mcall_func_with_variable_args\u001b[49m\u001b[43m,\u001b[49m\u001b[43m  \u001b[49m\u001b[38;5;66;43;03m# type: ignore[arg-type]\u001b[39;49;00m\n\u001b[1;32m   1929\u001b[0m \u001b[43m            \u001b[49m\u001b[43mfunc\u001b[49m\u001b[43m,\u001b[49m\u001b[43m  \u001b[49m\u001b[38;5;66;43;03m# type: ignore[arg-type]\u001b[39;49;00m\n\u001b[1;32m   1930\u001b[0m \u001b[43m            \u001b[49m\u001b[38;5;28;43minput\u001b[39;49m\u001b[43m,\u001b[49m\u001b[43m  \u001b[49m\u001b[38;5;66;43;03m# type: ignore[arg-type]\u001b[39;49;00m\n\u001b[1;32m   1931\u001b[0m \u001b[43m            \u001b[49m\u001b[43mconfig\u001b[49m\u001b[43m,\u001b[49m\n\u001b[1;32m   1932\u001b[0m \u001b[43m            \u001b[49m\u001b[43mrun_manager\u001b[49m\u001b[43m,\u001b[49m\n\u001b[1;32m   1933\u001b[0m \u001b[43m            \u001b[49m\u001b[38;5;241;43m*\u001b[39;49m\u001b[38;5;241;43m*\u001b[39;49m\u001b[43mkwargs\u001b[49m\u001b[43m,\u001b[49m\n\u001b[1;32m   1934\u001b[0m \u001b[43m        \u001b[49m\u001b[43m)\u001b[49m,\n\u001b[1;32m   1935\u001b[0m     )\n\u001b[1;32m   1936\u001b[0m \u001b[38;5;28;01mexcept\u001b[39;00m \u001b[38;5;167;01mBaseException\u001b[39;00m \u001b[38;5;28;01mas\u001b[39;00m e:\n\u001b[1;32m   1937\u001b[0m     run_manager\u001b[38;5;241m.\u001b[39mon_chain_error(e)\n",
            "File \u001b[0;32m~/Desktop/LangchainLearning/.venv/lib/python3.12/site-packages/langchain_core/runnables/config.py:396\u001b[0m, in \u001b[0;36mcall_func_with_variable_args\u001b[0;34m(func, input, config, run_manager, **kwargs)\u001b[0m\n\u001b[1;32m    394\u001b[0m \u001b[38;5;28;01mif\u001b[39;00m run_manager \u001b[38;5;129;01mis\u001b[39;00m \u001b[38;5;129;01mnot\u001b[39;00m \u001b[38;5;28;01mNone\u001b[39;00m \u001b[38;5;129;01mand\u001b[39;00m accepts_run_manager(func):\n\u001b[1;32m    395\u001b[0m     kwargs[\u001b[38;5;124m\"\u001b[39m\u001b[38;5;124mrun_manager\u001b[39m\u001b[38;5;124m\"\u001b[39m] \u001b[38;5;241m=\u001b[39m run_manager\n\u001b[0;32m--> 396\u001b[0m \u001b[38;5;28;01mreturn\u001b[39;00m \u001b[43mfunc\u001b[49m\u001b[43m(\u001b[49m\u001b[38;5;28;43minput\u001b[39;49m\u001b[43m,\u001b[49m\u001b[43m \u001b[49m\u001b[38;5;241;43m*\u001b[39;49m\u001b[38;5;241;43m*\u001b[39;49m\u001b[43mkwargs\u001b[49m\u001b[43m)\u001b[49m\n",
            "File \u001b[0;32m~/Desktop/LangchainLearning/.venv/lib/python3.12/site-packages/langchain_core/runnables/base.py:4567\u001b[0m, in \u001b[0;36mRunnableLambda._invoke\u001b[0;34m(self, input, run_manager, config, **kwargs)\u001b[0m\n\u001b[1;32m   4565\u001b[0m                 output \u001b[38;5;241m=\u001b[39m chunk\n\u001b[1;32m   4566\u001b[0m \u001b[38;5;28;01melse\u001b[39;00m:\n\u001b[0;32m-> 4567\u001b[0m     output \u001b[38;5;241m=\u001b[39m \u001b[43mcall_func_with_variable_args\u001b[49m\u001b[43m(\u001b[49m\n\u001b[1;32m   4568\u001b[0m \u001b[43m        \u001b[49m\u001b[38;5;28;43mself\u001b[39;49m\u001b[38;5;241;43m.\u001b[39;49m\u001b[43mfunc\u001b[49m\u001b[43m,\u001b[49m\u001b[43m \u001b[49m\u001b[38;5;28;43minput\u001b[39;49m\u001b[43m,\u001b[49m\u001b[43m \u001b[49m\u001b[43mconfig\u001b[49m\u001b[43m,\u001b[49m\u001b[43m \u001b[49m\u001b[43mrun_manager\u001b[49m\u001b[43m,\u001b[49m\u001b[43m \u001b[49m\u001b[38;5;241;43m*\u001b[39;49m\u001b[38;5;241;43m*\u001b[39;49m\u001b[43mkwargs\u001b[49m\n\u001b[1;32m   4569\u001b[0m \u001b[43m    \u001b[49m\u001b[43m)\u001b[49m\n\u001b[1;32m   4570\u001b[0m \u001b[38;5;66;03m# If the output is a Runnable, invoke it\u001b[39;00m\n\u001b[1;32m   4571\u001b[0m \u001b[38;5;28;01mif\u001b[39;00m \u001b[38;5;28misinstance\u001b[39m(output, Runnable):\n",
            "File \u001b[0;32m~/Desktop/LangchainLearning/.venv/lib/python3.12/site-packages/langchain_core/runnables/config.py:396\u001b[0m, in \u001b[0;36mcall_func_with_variable_args\u001b[0;34m(func, input, config, run_manager, **kwargs)\u001b[0m\n\u001b[1;32m    394\u001b[0m \u001b[38;5;28;01mif\u001b[39;00m run_manager \u001b[38;5;129;01mis\u001b[39;00m \u001b[38;5;129;01mnot\u001b[39;00m \u001b[38;5;28;01mNone\u001b[39;00m \u001b[38;5;129;01mand\u001b[39;00m accepts_run_manager(func):\n\u001b[1;32m    395\u001b[0m     kwargs[\u001b[38;5;124m\"\u001b[39m\u001b[38;5;124mrun_manager\u001b[39m\u001b[38;5;124m\"\u001b[39m] \u001b[38;5;241m=\u001b[39m run_manager\n\u001b[0;32m--> 396\u001b[0m \u001b[38;5;28;01mreturn\u001b[39;00m \u001b[43mfunc\u001b[49m\u001b[43m(\u001b[49m\u001b[38;5;28;43minput\u001b[39;49m\u001b[43m,\u001b[49m\u001b[43m \u001b[49m\u001b[38;5;241;43m*\u001b[39;49m\u001b[38;5;241;43m*\u001b[39;49m\u001b[43mkwargs\u001b[49m\u001b[43m)\u001b[49m\n",
            "Cell \u001b[0;32mIn[115], line 13\u001b[0m, in \u001b[0;36mgenerate_and_display_image\u001b[0;34m(image_prompt)\u001b[0m\n\u001b[1;32m     11\u001b[0m model \u001b[38;5;241m=\u001b[39m genai\u001b[38;5;241m.\u001b[39mGenerativeModel(\u001b[38;5;124m'\u001b[39m\u001b[38;5;124mgemini-2.5-flash-image\u001b[39m\u001b[38;5;124m'\u001b[39m)   \n\u001b[1;32m     12\u001b[0m \u001b[38;5;66;03m# Generate the image\u001b[39;00m\n\u001b[0;32m---> 13\u001b[0m response \u001b[38;5;241m=\u001b[39m \u001b[43mmodel\u001b[49m\u001b[38;5;241;43m.\u001b[39;49m\u001b[43mgenerate_content\u001b[49m\u001b[43m(\u001b[49m\u001b[43mimage_prompt\u001b[49m\u001b[43m)\u001b[49m\n\u001b[1;32m     14\u001b[0m \u001b[38;5;28;01mif\u001b[39;00m response\u001b[38;5;241m.\u001b[39mcandidates[\u001b[38;5;241m0\u001b[39m]\u001b[38;5;241m.\u001b[39mcontent\u001b[38;5;241m.\u001b[39mparts:\n\u001b[1;32m     15\u001b[0m     image_url \u001b[38;5;241m=\u001b[39m response\u001b[38;5;241m.\u001b[39mcandidates[\u001b[38;5;241m0\u001b[39m]\u001b[38;5;241m.\u001b[39mcontent\u001b[38;5;241m.\u001b[39mparts[\u001b[38;5;241m0\u001b[39m]\u001b[38;5;241m.\u001b[39mtext\n",
            "File \u001b[0;32m~/Desktop/LangchainLearning/.venv/lib/python3.12/site-packages/google/generativeai/generative_models.py:331\u001b[0m, in \u001b[0;36mGenerativeModel.generate_content\u001b[0;34m(self, contents, generation_config, safety_settings, stream, tools, tool_config, request_options)\u001b[0m\n\u001b[1;32m    329\u001b[0m         \u001b[38;5;28;01mreturn\u001b[39;00m generation_types\u001b[38;5;241m.\u001b[39mGenerateContentResponse\u001b[38;5;241m.\u001b[39mfrom_iterator(iterator)\n\u001b[1;32m    330\u001b[0m     \u001b[38;5;28;01melse\u001b[39;00m:\n\u001b[0;32m--> 331\u001b[0m         response \u001b[38;5;241m=\u001b[39m \u001b[38;5;28;43mself\u001b[39;49m\u001b[38;5;241;43m.\u001b[39;49m\u001b[43m_client\u001b[49m\u001b[38;5;241;43m.\u001b[39;49m\u001b[43mgenerate_content\u001b[49m\u001b[43m(\u001b[49m\n\u001b[1;32m    332\u001b[0m \u001b[43m            \u001b[49m\u001b[43mrequest\u001b[49m\u001b[43m,\u001b[49m\n\u001b[1;32m    333\u001b[0m \u001b[43m            \u001b[49m\u001b[38;5;241;43m*\u001b[39;49m\u001b[38;5;241;43m*\u001b[39;49m\u001b[43mrequest_options\u001b[49m\u001b[43m,\u001b[49m\n\u001b[1;32m    334\u001b[0m \u001b[43m        \u001b[49m\u001b[43m)\u001b[49m\n\u001b[1;32m    335\u001b[0m         \u001b[38;5;28;01mreturn\u001b[39;00m generation_types\u001b[38;5;241m.\u001b[39mGenerateContentResponse\u001b[38;5;241m.\u001b[39mfrom_response(response)\n\u001b[1;32m    336\u001b[0m \u001b[38;5;28;01mexcept\u001b[39;00m google\u001b[38;5;241m.\u001b[39mapi_core\u001b[38;5;241m.\u001b[39mexceptions\u001b[38;5;241m.\u001b[39mInvalidArgument \u001b[38;5;28;01mas\u001b[39;00m e:\n",
            "File \u001b[0;32m~/Desktop/LangchainLearning/.venv/lib/python3.12/site-packages/google/ai/generativelanguage_v1beta/services/generative_service/client.py:835\u001b[0m, in \u001b[0;36mGenerativeServiceClient.generate_content\u001b[0;34m(self, request, model, contents, retry, timeout, metadata)\u001b[0m\n\u001b[1;32m    832\u001b[0m \u001b[38;5;28mself\u001b[39m\u001b[38;5;241m.\u001b[39m_validate_universe_domain()\n\u001b[1;32m    834\u001b[0m \u001b[38;5;66;03m# Send the request.\u001b[39;00m\n\u001b[0;32m--> 835\u001b[0m response \u001b[38;5;241m=\u001b[39m \u001b[43mrpc\u001b[49m\u001b[43m(\u001b[49m\n\u001b[1;32m    836\u001b[0m \u001b[43m    \u001b[49m\u001b[43mrequest\u001b[49m\u001b[43m,\u001b[49m\n\u001b[1;32m    837\u001b[0m \u001b[43m    \u001b[49m\u001b[43mretry\u001b[49m\u001b[38;5;241;43m=\u001b[39;49m\u001b[43mretry\u001b[49m\u001b[43m,\u001b[49m\n\u001b[1;32m    838\u001b[0m \u001b[43m    \u001b[49m\u001b[43mtimeout\u001b[49m\u001b[38;5;241;43m=\u001b[39;49m\u001b[43mtimeout\u001b[49m\u001b[43m,\u001b[49m\n\u001b[1;32m    839\u001b[0m \u001b[43m    \u001b[49m\u001b[43mmetadata\u001b[49m\u001b[38;5;241;43m=\u001b[39;49m\u001b[43mmetadata\u001b[49m\u001b[43m,\u001b[49m\n\u001b[1;32m    840\u001b[0m \u001b[43m\u001b[49m\u001b[43m)\u001b[49m\n\u001b[1;32m    842\u001b[0m \u001b[38;5;66;03m# Done; return the response.\u001b[39;00m\n\u001b[1;32m    843\u001b[0m \u001b[38;5;28;01mreturn\u001b[39;00m response\n",
            "File \u001b[0;32m~/Desktop/LangchainLearning/.venv/lib/python3.12/site-packages/google/api_core/gapic_v1/method.py:131\u001b[0m, in \u001b[0;36m_GapicCallable.__call__\u001b[0;34m(self, timeout, retry, compression, *args, **kwargs)\u001b[0m\n\u001b[1;32m    128\u001b[0m \u001b[38;5;28;01mif\u001b[39;00m \u001b[38;5;28mself\u001b[39m\u001b[38;5;241m.\u001b[39m_compression \u001b[38;5;129;01mis\u001b[39;00m \u001b[38;5;129;01mnot\u001b[39;00m \u001b[38;5;28;01mNone\u001b[39;00m:\n\u001b[1;32m    129\u001b[0m     kwargs[\u001b[38;5;124m\"\u001b[39m\u001b[38;5;124mcompression\u001b[39m\u001b[38;5;124m\"\u001b[39m] \u001b[38;5;241m=\u001b[39m compression\n\u001b[0;32m--> 131\u001b[0m \u001b[38;5;28;01mreturn\u001b[39;00m \u001b[43mwrapped_func\u001b[49m\u001b[43m(\u001b[49m\u001b[38;5;241;43m*\u001b[39;49m\u001b[43margs\u001b[49m\u001b[43m,\u001b[49m\u001b[43m \u001b[49m\u001b[38;5;241;43m*\u001b[39;49m\u001b[38;5;241;43m*\u001b[39;49m\u001b[43mkwargs\u001b[49m\u001b[43m)\u001b[49m\n",
            "File \u001b[0;32m~/Desktop/LangchainLearning/.venv/lib/python3.12/site-packages/google/api_core/retry/retry_unary.py:294\u001b[0m, in \u001b[0;36mRetry.__call__.<locals>.retry_wrapped_func\u001b[0;34m(*args, **kwargs)\u001b[0m\n\u001b[1;32m    290\u001b[0m target \u001b[38;5;241m=\u001b[39m functools\u001b[38;5;241m.\u001b[39mpartial(func, \u001b[38;5;241m*\u001b[39margs, \u001b[38;5;241m*\u001b[39m\u001b[38;5;241m*\u001b[39mkwargs)\n\u001b[1;32m    291\u001b[0m sleep_generator \u001b[38;5;241m=\u001b[39m exponential_sleep_generator(\n\u001b[1;32m    292\u001b[0m     \u001b[38;5;28mself\u001b[39m\u001b[38;5;241m.\u001b[39m_initial, \u001b[38;5;28mself\u001b[39m\u001b[38;5;241m.\u001b[39m_maximum, multiplier\u001b[38;5;241m=\u001b[39m\u001b[38;5;28mself\u001b[39m\u001b[38;5;241m.\u001b[39m_multiplier\n\u001b[1;32m    293\u001b[0m )\n\u001b[0;32m--> 294\u001b[0m \u001b[38;5;28;01mreturn\u001b[39;00m \u001b[43mretry_target\u001b[49m\u001b[43m(\u001b[49m\n\u001b[1;32m    295\u001b[0m \u001b[43m    \u001b[49m\u001b[43mtarget\u001b[49m\u001b[43m,\u001b[49m\n\u001b[1;32m    296\u001b[0m \u001b[43m    \u001b[49m\u001b[38;5;28;43mself\u001b[39;49m\u001b[38;5;241;43m.\u001b[39;49m\u001b[43m_predicate\u001b[49m\u001b[43m,\u001b[49m\n\u001b[1;32m    297\u001b[0m \u001b[43m    \u001b[49m\u001b[43msleep_generator\u001b[49m\u001b[43m,\u001b[49m\n\u001b[1;32m    298\u001b[0m \u001b[43m    \u001b[49m\u001b[43mtimeout\u001b[49m\u001b[38;5;241;43m=\u001b[39;49m\u001b[38;5;28;43mself\u001b[39;49m\u001b[38;5;241;43m.\u001b[39;49m\u001b[43m_timeout\u001b[49m\u001b[43m,\u001b[49m\n\u001b[1;32m    299\u001b[0m \u001b[43m    \u001b[49m\u001b[43mon_error\u001b[49m\u001b[38;5;241;43m=\u001b[39;49m\u001b[43mon_error\u001b[49m\u001b[43m,\u001b[49m\n\u001b[1;32m    300\u001b[0m \u001b[43m\u001b[49m\u001b[43m)\u001b[49m\n",
            "File \u001b[0;32m~/Desktop/LangchainLearning/.venv/lib/python3.12/site-packages/google/api_core/retry/retry_unary.py:156\u001b[0m, in \u001b[0;36mretry_target\u001b[0;34m(target, predicate, sleep_generator, timeout, on_error, exception_factory, **kwargs)\u001b[0m\n\u001b[1;32m    152\u001b[0m \u001b[38;5;66;03m# pylint: disable=broad-except\u001b[39;00m\n\u001b[1;32m    153\u001b[0m \u001b[38;5;66;03m# This function explicitly must deal with broad exceptions.\u001b[39;00m\n\u001b[1;32m    154\u001b[0m \u001b[38;5;28;01mexcept\u001b[39;00m \u001b[38;5;167;01mException\u001b[39;00m \u001b[38;5;28;01mas\u001b[39;00m exc:\n\u001b[1;32m    155\u001b[0m     \u001b[38;5;66;03m# defer to shared logic for handling errors\u001b[39;00m\n\u001b[0;32m--> 156\u001b[0m     next_sleep \u001b[38;5;241m=\u001b[39m \u001b[43m_retry_error_helper\u001b[49m\u001b[43m(\u001b[49m\n\u001b[1;32m    157\u001b[0m \u001b[43m        \u001b[49m\u001b[43mexc\u001b[49m\u001b[43m,\u001b[49m\n\u001b[1;32m    158\u001b[0m \u001b[43m        \u001b[49m\u001b[43mdeadline\u001b[49m\u001b[43m,\u001b[49m\n\u001b[1;32m    159\u001b[0m \u001b[43m        \u001b[49m\u001b[43msleep_iter\u001b[49m\u001b[43m,\u001b[49m\n\u001b[1;32m    160\u001b[0m \u001b[43m        \u001b[49m\u001b[43merror_list\u001b[49m\u001b[43m,\u001b[49m\n\u001b[1;32m    161\u001b[0m \u001b[43m        \u001b[49m\u001b[43mpredicate\u001b[49m\u001b[43m,\u001b[49m\n\u001b[1;32m    162\u001b[0m \u001b[43m        \u001b[49m\u001b[43mon_error\u001b[49m\u001b[43m,\u001b[49m\n\u001b[1;32m    163\u001b[0m \u001b[43m        \u001b[49m\u001b[43mexception_factory\u001b[49m\u001b[43m,\u001b[49m\n\u001b[1;32m    164\u001b[0m \u001b[43m        \u001b[49m\u001b[43mtimeout\u001b[49m\u001b[43m,\u001b[49m\n\u001b[1;32m    165\u001b[0m \u001b[43m    \u001b[49m\u001b[43m)\u001b[49m\n\u001b[1;32m    166\u001b[0m     \u001b[38;5;66;03m# if exception not raised, sleep before next attempt\u001b[39;00m\n\u001b[1;32m    167\u001b[0m     time\u001b[38;5;241m.\u001b[39msleep(next_sleep)\n",
            "File \u001b[0;32m~/Desktop/LangchainLearning/.venv/lib/python3.12/site-packages/google/api_core/retry/retry_base.py:214\u001b[0m, in \u001b[0;36m_retry_error_helper\u001b[0;34m(exc, deadline, sleep_iterator, error_list, predicate_fn, on_error_fn, exc_factory_fn, original_timeout)\u001b[0m\n\u001b[1;32m    208\u001b[0m \u001b[38;5;28;01mif\u001b[39;00m \u001b[38;5;129;01mnot\u001b[39;00m predicate_fn(exc):\n\u001b[1;32m    209\u001b[0m     final_exc, source_exc \u001b[38;5;241m=\u001b[39m exc_factory_fn(\n\u001b[1;32m    210\u001b[0m         error_list,\n\u001b[1;32m    211\u001b[0m         RetryFailureReason\u001b[38;5;241m.\u001b[39mNON_RETRYABLE_ERROR,\n\u001b[1;32m    212\u001b[0m         original_timeout,\n\u001b[1;32m    213\u001b[0m     )\n\u001b[0;32m--> 214\u001b[0m     \u001b[38;5;28;01mraise\u001b[39;00m final_exc \u001b[38;5;28;01mfrom\u001b[39;00m \u001b[38;5;21;01msource_exc\u001b[39;00m\n\u001b[1;32m    215\u001b[0m \u001b[38;5;28;01mif\u001b[39;00m on_error_fn \u001b[38;5;129;01mis\u001b[39;00m \u001b[38;5;129;01mnot\u001b[39;00m \u001b[38;5;28;01mNone\u001b[39;00m:\n\u001b[1;32m    216\u001b[0m     on_error_fn(exc)\n",
            "File \u001b[0;32m~/Desktop/LangchainLearning/.venv/lib/python3.12/site-packages/google/api_core/retry/retry_unary.py:147\u001b[0m, in \u001b[0;36mretry_target\u001b[0;34m(target, predicate, sleep_generator, timeout, on_error, exception_factory, **kwargs)\u001b[0m\n\u001b[1;32m    145\u001b[0m \u001b[38;5;28;01mwhile\u001b[39;00m \u001b[38;5;28;01mTrue\u001b[39;00m:\n\u001b[1;32m    146\u001b[0m     \u001b[38;5;28;01mtry\u001b[39;00m:\n\u001b[0;32m--> 147\u001b[0m         result \u001b[38;5;241m=\u001b[39m \u001b[43mtarget\u001b[49m\u001b[43m(\u001b[49m\u001b[43m)\u001b[49m\n\u001b[1;32m    148\u001b[0m         \u001b[38;5;28;01mif\u001b[39;00m inspect\u001b[38;5;241m.\u001b[39misawaitable(result):\n\u001b[1;32m    149\u001b[0m             warnings\u001b[38;5;241m.\u001b[39mwarn(_ASYNC_RETRY_WARNING)\n",
            "File \u001b[0;32m~/Desktop/LangchainLearning/.venv/lib/python3.12/site-packages/google/api_core/timeout.py:130\u001b[0m, in \u001b[0;36mTimeToDeadlineTimeout.__call__.<locals>.func_with_timeout\u001b[0;34m(*args, **kwargs)\u001b[0m\n\u001b[1;32m    126\u001b[0m         remaining_timeout \u001b[38;5;241m=\u001b[39m \u001b[38;5;28mself\u001b[39m\u001b[38;5;241m.\u001b[39m_timeout\n\u001b[1;32m    128\u001b[0m     kwargs[\u001b[38;5;124m\"\u001b[39m\u001b[38;5;124mtimeout\u001b[39m\u001b[38;5;124m\"\u001b[39m] \u001b[38;5;241m=\u001b[39m remaining_timeout\n\u001b[0;32m--> 130\u001b[0m \u001b[38;5;28;01mreturn\u001b[39;00m \u001b[43mfunc\u001b[49m\u001b[43m(\u001b[49m\u001b[38;5;241;43m*\u001b[39;49m\u001b[43margs\u001b[49m\u001b[43m,\u001b[49m\u001b[43m \u001b[49m\u001b[38;5;241;43m*\u001b[39;49m\u001b[38;5;241;43m*\u001b[39;49m\u001b[43mkwargs\u001b[49m\u001b[43m)\u001b[49m\n",
            "File \u001b[0;32m~/Desktop/LangchainLearning/.venv/lib/python3.12/site-packages/google/api_core/grpc_helpers.py:77\u001b[0m, in \u001b[0;36m_wrap_unary_errors.<locals>.error_remapped_callable\u001b[0;34m(*args, **kwargs)\u001b[0m\n\u001b[1;32m     75\u001b[0m     \u001b[38;5;28;01mreturn\u001b[39;00m callable_(\u001b[38;5;241m*\u001b[39margs, \u001b[38;5;241m*\u001b[39m\u001b[38;5;241m*\u001b[39mkwargs)\n\u001b[1;32m     76\u001b[0m \u001b[38;5;28;01mexcept\u001b[39;00m grpc\u001b[38;5;241m.\u001b[39mRpcError \u001b[38;5;28;01mas\u001b[39;00m exc:\n\u001b[0;32m---> 77\u001b[0m     \u001b[38;5;28;01mraise\u001b[39;00m exceptions\u001b[38;5;241m.\u001b[39mfrom_grpc_error(exc) \u001b[38;5;28;01mfrom\u001b[39;00m \u001b[38;5;21;01mexc\u001b[39;00m\n",
            "\u001b[0;31mResourceExhausted\u001b[0m: 429 You exceeded your current quota, please check your plan and billing details. For more information on this error, head to: https://ai.google.dev/gemini-api/docs/rate-limits. To monitor your current usage, head to: https://ai.dev/usage?tab=rate-limit.\n* Quota exceeded for metric: generativelanguage.googleapis.com/generate_content_free_tier_requests, limit: 0\n* Quota exceeded for metric: generativelanguage.googleapis.com/generate_content_free_tier_requests, limit: 0\n* Quota exceeded for metric: generativelanguage.googleapis.com/generate_content_free_tier_input_token_count, limit: 0\nPlease retry in 23.333211135s. [violations {\n  quota_metric: \"generativelanguage.googleapis.com/generate_content_free_tier_requests\"\n  quota_id: \"GenerateRequestsPerDayPerProjectPerModel-FreeTier\"\n  quota_dimensions {\n    key: \"model\"\n    value: \"gemini-2.5-flash-preview-image\"\n  }\n  quota_dimensions {\n    key: \"location\"\n    value: \"global\"\n  }\n}\nviolations {\n  quota_metric: \"generativelanguage.googleapis.com/generate_content_free_tier_requests\"\n  quota_id: \"GenerateRequestsPerMinutePerProjectPerModel-FreeTier\"\n  quota_dimensions {\n    key: \"model\"\n    value: \"gemini-2.5-flash-preview-image\"\n  }\n  quota_dimensions {\n    key: \"location\"\n    value: \"global\"\n  }\n}\nviolations {\n  quota_metric: \"generativelanguage.googleapis.com/generate_content_free_tier_input_token_count\"\n  quota_id: \"GenerateContentInputTokensPerModelPerMinute-FreeTier\"\n  quota_dimensions {\n    key: \"model\"\n    value: \"gemini-2.5-flash-preview-image\"\n  }\n  quota_dimensions {\n    key: \"location\"\n    value: \"global\"\n  }\n}\n, links {\n  description: \"Learn more about Gemini API quotas\"\n  url: \"https://ai.google.dev/gemini-api/docs/rate-limits\"\n}\n, retry_delay {\n  seconds: 23\n}\n]"
          ]
        }
      ],
      "source": [
        "chain_four.invoke({\"article\": article, \"owner\": \"Gemini\"})"
      ]
    },
    {
      "cell_type": "markdown",
      "metadata": {
        "id": "VAA3_UuSH6av"
      },
      "source": [
        "With that we've built LLM chains that can help us building and writing articles. We've understood a few of the basics of LangChain, introduced **L**ang**C**hain **E**xpression **L**anguage (LCEL), and built a multi-modal article-helper pipeline."
      ]
    }
  ],
  "metadata": {
    "colab": {
      "provenance": []
    },
    "kernelspec": {
      "display_name": "langchainlearning",
      "language": "python",
      "name": "python3"
    },
    "language_info": {
      "codemirror_mode": {
        "name": "ipython",
        "version": 3
      },
      "file_extension": ".py",
      "mimetype": "text/x-python",
      "name": "python",
      "nbconvert_exporter": "python",
      "pygments_lexer": "ipython3",
      "version": "3.12.7"
    }
  },
  "nbformat": 4,
  "nbformat_minor": 0
}
